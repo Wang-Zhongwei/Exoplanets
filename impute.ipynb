{
 "cells": [
  {
   "cell_type": "code",
   "execution_count": 159,
   "metadata": {},
   "outputs": [],
   "source": [
    "import pandas as pd\n",
    "import numpy as np\n",
    "import matplotlib.pyplot as plt\n",
    "from sklearn.preprocessing import LabelEncoder, OrdinalEncoder"
   ]
  },
  {
   "cell_type": "code",
   "execution_count": 160,
   "metadata": {},
   "outputs": [],
   "source": [
    "data = pd.read_csv('data/cleaned_5272.csv', header=0)"
   ]
  },
  {
   "cell_type": "code",
   "execution_count": 161,
   "metadata": {},
   "outputs": [],
   "source": [
    "# important variables\n",
    "important_vars = ['pl_orbper', 'pl_orbeccen', 'pl_orbsmax', 'pl_rade', 'pl_bmasse']\n",
    "\n",
    "# thrown variables\n",
    "thrown_vars = ['pl_name', 'hostname', 'discoverymethod', 'disc_year', 'sy_dist']\n",
    "\n",
    "# drop thrown variables\n",
    "data.drop(thrown_vars, axis=1, inplace=True)"
   ]
  },
  {
   "cell_type": "code",
   "execution_count": 162,
   "metadata": {},
   "outputs": [
    {
     "data": {
      "text/plain": [
       "array(['G8 III', nan, 'K0 III', 'K3 III', 'G6 III', 'K7 V', 'G3 IV',\n",
       "       'M V', 'M5.5/M6', 'M3.5 V', 'M6', 'M8.5', 'M8', 'K1 III',\n",
       "       'K1.5 III', 'F0 IV', 'G5 V', 'G3 III', 'G5 III', 'K2 V', 'K0',\n",
       "       'K2 II', 'K5 III', 'K1', 'K3', 'G0', 'K7/M0 V', 'K3 V', 'K5 V',\n",
       "       'M5.0 V', 'M9-L1', 'M3.5', 'K7', 'M3 V', 'G0 V', 'K1 V', 'F6 V',\n",
       "       'F9 V', 'G2 V', 'G9 V', 'F8 IV', 'G3 V', 'F9', 'G5', 'G2',\n",
       "       'G8/9 IV', 'K0 V', 'F3 V', 'G2 IV', 'G0 VI', 'L1.5', 'M0.5',\n",
       "       'F8 V', 'F5 V', 'G6 V', 'G8 IV/V', 'M7.25', 'M4.0 V', 'M2.5 V',\n",
       "       'M5.5 V', 'M 4.5V', 'M4 V', 'M4.5 V', 'K4.5', 'M1', 'M0 V', 'M2 V',\n",
       "       'M3.0 V', 'M0.5 V', 'M0', 'M2.5', 'M4', 'M1.0 V', 'M2.0 V', 'M4.0',\n",
       "       'M3.5 Ve', 'M0.5-1.0 V', 'M1 V', 'M2', 'M1.5', 'M1.5 V', 'F2',\n",
       "       'K7e V', 'M3', 'K4', 'F8', 'K2', 'G3', 'K', 'G V', 'K V', 'G', 'F',\n",
       "       'B9 Vne', 'G9 III', 'G4 V', 'K2 III', 'K9 V', 'G4 IV', 'F5',\n",
       "       'G1 V', 'K0 IV-V', 'F8 IV/V', 'K1 IV', 'G3 IV-V', 'K3.5 V', 'G8 V',\n",
       "       'F7 V', 'G8', 'K2.5 V', 'G5 IV', 'K3 IV', 'K0 III-IV', 'G5 IV/V',\n",
       "       'M1 III', 'G8 IV', 'G8 III/IV', 'K5', 'K4 V', 'M0.0 V', 'F8/G0 V',\n",
       "       'G1 IV/V', 'G3/G5 V', 'G1.5 V', 'G8/K0', 'K0 IV', 'G7 V', 'F V',\n",
       "       'G2/G3 V', 'G8/K0 III', 'G1-1.5 V', 'K0.5 V', 'Be9.5/AO',\n",
       "       'M0.5 Ve', 'K6 V', 'A2 V', 'B9 V', 'A5 V', 'A5', 'K5.5',\n",
       "       'M0.0&plusmn;0.5 V', 'M(3.5+/-0.5) V', 'M3.3', 'K7.5 V', 'G4', 'A',\n",
       "       'F4 V', 'A8 V', 'B9.5-A0', 'M', 'B', 'F5 IV', 'G9/K0', 'm3 V',\n",
       "       'M5', 'M(6.1+/-0.7) V', 'M6 V', 'A7 V', 'K4 III', 'G1 IV', 'M9',\n",
       "       'K9 V/M0 V', 'F9 IV', 'M4.5V-M5V', 'K1-K2', 'Am C',\n",
       "       'M4 &#177 0.5 V', 'F0', 'G9 IV', 'M5V', 'M1.0', 'K8 V', 'F7/F8V',\n",
       "       'M3.0', 'K4.5 V', 'G0 IV', 'G0/F9 V', 'M7.0 V', 'M7', 'M7.5', 'G9',\n",
       "       'G1', 'F6', 'G6', 'F1 V', 'F7', 'A1 IV-V', 'F6 IV-V', 'G7', 'F4',\n",
       "       'DQ', 'T8.5', 'B2.5 V', 'G7 III', 'B9 IV', 'B2 IV', 'K1 IIIb-IV'],\n",
       "      dtype=object)"
      ]
     },
     "execution_count": 162,
     "metadata": {},
     "output_type": "execute_result"
    }
   ],
   "source": [
    "data['st_spectype'].unique()"
   ]
  },
  {
   "cell_type": "code",
   "execution_count": 163,
   "metadata": {},
   "outputs": [],
   "source": [
    "order = ['O', 'B', 'A', 'F', 'G', 'K', 'M'][::-1]"
   ]
  },
  {
   "cell_type": "code",
   "execution_count": 164,
   "metadata": {},
   "outputs": [],
   "source": [
    "# keep only first letter of spectral type and fill missing value with the most common spectral type\n",
    "data['st_spectype'] = data['st_spectype'].str[0]"
   ]
  },
  {
   "cell_type": "code",
   "execution_count": 165,
   "metadata": {},
   "outputs": [],
   "source": [
    "mapping = {label: index for index, label in enumerate(order)}"
   ]
  },
  {
   "cell_type": "code",
   "execution_count": 166,
   "metadata": {},
   "outputs": [],
   "source": [
    "data['st_spectype'] = data['st_spectype'].map(mapping)"
   ]
  },
  {
   "cell_type": "code",
   "execution_count": 167,
   "metadata": {},
   "outputs": [],
   "source": [
    "# encode categorical variables\n",
    "met_le = LabelEncoder()\n",
    "data['st_metratio'] = met_le.fit_transform(data['st_metratio'])\n",
    "\n",
    "type_le = LabelEncoder()\n",
    "data['planet_type'] = type_le.fit_transform(data['planet_type'])"
   ]
  },
  {
   "cell_type": "code",
   "execution_count": 168,
   "metadata": {},
   "outputs": [],
   "source": [
    "#impute missing values\n",
    "from sklearn.impute import KNNImputer\n",
    "imputer = KNNImputer(n_neighbors=2)"
   ]
  },
  {
   "cell_type": "code",
   "execution_count": 169,
   "metadata": {},
   "outputs": [],
   "source": [
    "orbital_features = ['pl_orbper', 'pl_orbsmax', 'st_mass']\n",
    "data[orbital_features] = imputer.fit_transform(data[orbital_features])"
   ]
  },
  {
   "cell_type": "code",
   "execution_count": 170,
   "metadata": {},
   "outputs": [],
   "source": [
    "planet_features = ['pl_rade', 'pl_bmasse', 'planet_type']\n",
    "data[planet_features] = imputer.fit_transform(data[planet_features])"
   ]
  },
  {
   "cell_type": "code",
   "execution_count": 171,
   "metadata": {},
   "outputs": [],
   "source": [
    "stellar_features = ['st_rad', 'st_teff', 'st_mass', 'st_spectype', 'st_logg', 'st_metratio']\n",
    "data[stellar_features] = imputer.fit_transform(data[stellar_features])"
   ]
  },
  {
   "cell_type": "code",
   "execution_count": 172,
   "metadata": {},
   "outputs": [],
   "source": [
    "data[data.columns] = imputer.fit_transform(data[data.columns])"
   ]
  },
  {
   "cell_type": "code",
   "execution_count": 173,
   "metadata": {},
   "outputs": [
    {
     "data": {
      "text/plain": [
       "245818.75407164308"
      ]
     },
     "execution_count": 173,
     "metadata": {},
     "output_type": "execute_result"
    }
   ],
   "source": [
    "# compute the variance of kepler ratio \n",
    "(data['pl_orbper']**2 / data['pl_orbsmax']**3 * data['st_mass']).std()"
   ]
  },
  {
   "cell_type": "code",
   "execution_count": 174,
   "metadata": {},
   "outputs": [],
   "source": [
    "# transform back planet type\n",
    "data['planet_type'] = type_le.inverse_transform(data['planet_type'].astype(int))"
   ]
  },
  {
   "cell_type": "code",
   "execution_count": 175,
   "metadata": {},
   "outputs": [],
   "source": [
    "# save X to csv\n",
    "data.to_csv('data/imputed_5272.csv', index=False)"
   ]
  }
 ],
 "metadata": {
  "kernelspec": {
   "display_name": "torch-gpu",
   "language": "python",
   "name": "python3"
  },
  "language_info": {
   "codemirror_mode": {
    "name": "ipython",
    "version": 3
   },
   "file_extension": ".py",
   "mimetype": "text/x-python",
   "name": "python",
   "nbconvert_exporter": "python",
   "pygments_lexer": "ipython3",
   "version": "3.8.16"
  },
  "orig_nbformat": 4
 },
 "nbformat": 4,
 "nbformat_minor": 2
}
